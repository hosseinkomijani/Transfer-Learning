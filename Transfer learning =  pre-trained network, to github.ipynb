{
 "cells": [
  {
   "cell_type": "markdown",
   "id": "73f14f16",
   "metadata": {},
   "source": [
    "# transfer learning = pre-trained network"
   ]
  },
  {
   "cell_type": "code",
   "execution_count": null,
   "id": "7e3c997d",
   "metadata": {},
   "outputs": [],
   "source": [
    "# database ImageNet: animals, and everyday objects, 1.4 milion image, 1000 class, interduced in 2014 \n",
    "# network: VGG16 trained on ImageNet\n",
    "# more recent networks: VGG16: VGG19, ResNet50, Inception V3, Xception, MobileNet"
   ]
  },
  {
   "cell_type": "code",
   "execution_count": 1,
   "id": "3813e6af",
   "metadata": {},
   "outputs": [],
   "source": [
    "import os, shutil\n",
    "\n",
    "\n",
    "original_dataset_dir='./dogs-vs-cats/train' \n",
    "base_dir='./dogs-vs-cats/mine practice'\n",
    "\n",
    "\n",
    "# making directory:\n",
    "train_dir=os.path.join(base_dir,'train') \n",
    "validation_dir=os.path.join(base_dir,'validation') \n",
    "test_dir=os.path.join(base_dir,'test') \n",
    "\n",
    "\n",
    "train_cats_dir=os.path.join(train_dir,'cats') \n",
    "train_dogs_dir=os.path.join(train_dir,'dogs') \n",
    "\n",
    "validation_cats_dir=os.path.join(validation_dir,'cats') \n",
    "validation_dogs_dir=os.path.join(validation_dir,'dogs') \n",
    "\n",
    "test_cats_dir=os.path.join(test_dir,'cats') \n",
    "test_dogs_dir=os.path.join(test_dir,'dogs') "
   ]
  },
  {
   "cell_type": "code",
   "execution_count": 2,
   "id": "a49a7be1",
   "metadata": {},
   "outputs": [
    {
     "name": "stdout",
     "output_type": "stream",
     "text": [
      "Downloading data from https://storage.googleapis.com/tensorflow/keras-applications/vgg16/vgg16_weights_tf_dim_ordering_tf_kernels_notop.h5\n",
      "58889256/58889256 [==============================] - 242s 4us/step\n"
     ]
    }
   ],
   "source": [
    "from keras.applications.vgg16 import VGG16\n",
    "\n",
    "# conv_base an obj from VGG16:\n",
    "conv_base = VGG16(weights='imagenet' , \n",
    "                  include_top=False, \n",
    "                  input_shape=(150,150,3)) "
   ]
  },
  {
   "cell_type": "code",
   "execution_count": 3,
   "id": "65e6df76",
   "metadata": {},
   "outputs": [
    {
     "name": "stdout",
     "output_type": "stream",
     "text": [
      "Model: \"vgg16\"\n",
      "_________________________________________________________________\n",
      " Layer (type)                Output Shape              Param #   \n",
      "=================================================================\n",
      " input_2 (InputLayer)        [(None, 150, 150, 3)]     0         \n",
      "                                                                 \n",
      " block1_conv1 (Conv2D)       (None, 150, 150, 64)      1792      \n",
      "                                                                 \n",
      " block1_conv2 (Conv2D)       (None, 150, 150, 64)      36928     \n",
      "                                                                 \n",
      " block1_pool (MaxPooling2D)  (None, 75, 75, 64)        0         \n",
      "                                                                 \n",
      " block2_conv1 (Conv2D)       (None, 75, 75, 128)       73856     \n",
      "                                                                 \n",
      " block2_conv2 (Conv2D)       (None, 75, 75, 128)       147584    \n",
      "                                                                 \n",
      " block2_pool (MaxPooling2D)  (None, 37, 37, 128)       0         \n",
      "                                                                 \n",
      " block3_conv1 (Conv2D)       (None, 37, 37, 256)       295168    \n",
      "                                                                 \n",
      " block3_conv2 (Conv2D)       (None, 37, 37, 256)       590080    \n",
      "                                                                 \n",
      " block3_conv3 (Conv2D)       (None, 37, 37, 256)       590080    \n",
      "                                                                 \n",
      " block3_pool (MaxPooling2D)  (None, 18, 18, 256)       0         \n",
      "                                                                 \n",
      " block4_conv1 (Conv2D)       (None, 18, 18, 512)       1180160   \n",
      "                                                                 \n",
      " block4_conv2 (Conv2D)       (None, 18, 18, 512)       2359808   \n",
      "                                                                 \n",
      " block4_conv3 (Conv2D)       (None, 18, 18, 512)       2359808   \n",
      "                                                                 \n",
      " block4_pool (MaxPooling2D)  (None, 9, 9, 512)         0         \n",
      "                                                                 \n",
      " block5_conv1 (Conv2D)       (None, 9, 9, 512)         2359808   \n",
      "                                                                 \n",
      " block5_conv2 (Conv2D)       (None, 9, 9, 512)         2359808   \n",
      "                                                                 \n",
      " block5_conv3 (Conv2D)       (None, 9, 9, 512)         2359808   \n",
      "                                                                 \n",
      " block5_pool (MaxPooling2D)  (None, 4, 4, 512)         0         \n",
      "                                                                 \n",
      "=================================================================\n",
      "Total params: 14,714,688\n",
      "Trainable params: 14,714,688\n",
      "Non-trainable params: 0\n",
      "_________________________________________________________________\n"
     ]
    }
   ],
   "source": [
    "conv_base.summary()"
   ]
  },
  {
   "cell_type": "markdown",
   "id": "e7d16c3e",
   "metadata": {},
   "source": [
    "# method 1: fast feature extration"
   ]
  },
  {
   "cell_type": "code",
   "execution_count": 10,
   "id": "64a2cfa7",
   "metadata": {},
   "outputs": [
    {
     "name": "stdout",
     "output_type": "stream",
     "text": [
      "Found 2000 images belonging to 2 classes.\n",
      "Found 1000 images belonging to 2 classes.\n",
      "Found 1000 images belonging to 2 classes.\n"
     ]
    }
   ],
   "source": [
    "from keras.preprocessing.image import ImageDataGenerator\n",
    "import numpy as np\n",
    "\n",
    "datagen=ImageDataGenerator(rescale=1./255) \n",
    "batch_size=20\n",
    "\n",
    "\n",
    "def extract_features(directory, sample_count): \n",
    "    features=np.zeros(shape=(sample_count,4,4,512)) \n",
    "    labels=np.zeros(shape=(sample_count))\n",
    "    generator=datagen.flow_from_directory(directory,\n",
    "                                          target_size=(150,150),\n",
    "                                          batch_size=batch_size,\n",
    "                                          class_mode='binary',\n",
    "                                          shuffle=False) \n",
    "    \n",
    "    i=0\n",
    "    for inputs_batch, labels_batch in generator:\n",
    "        features_batch=conv_base.predict(inputs_batch) \n",
    "        features[i*batch_size:(i+1)*batch_size]=features_batch\n",
    "        labels[i*batch_size:(i+1)*batch_size]=labels_batch\n",
    "        i+=1 \n",
    "        if i*batch_size >= sample_count: \n",
    "            break\n",
    "        return features, labels\n",
    "\n",
    "\n",
    "train_features, train_labels=extract_features(train_dir, 2000)\n",
    "validation_features, validation_labels=extract_features(validation_dir, 1000)\n",
    "test_features, test_labels=extract_features(test_dir, 1000)"
   ]
  },
  {
   "cell_type": "code",
   "execution_count": 11,
   "id": "017e1d76",
   "metadata": {},
   "outputs": [],
   "source": [
    "\n",
    "train_features= np.reshape(train_features, (2000, 4*4*512)) # reshape (2000,4,4,512)-->(2000, 4*4*512)\n",
    "validation_features= np.reshape(validation_features, (1000, 4*4*512))\n",
    "test_features= np.reshape(test_features, (1000, 4*4*512))"
   ]
  },
  {
   "cell_type": "code",
   "execution_count": 17,
   "id": "5dbfbf4a",
   "metadata": {},
   "outputs": [
    {
     "name": "stdout",
     "output_type": "stream",
     "text": [
      "Epoch 1/30\n",
      "100/100 [==============================] - 9s 71ms/step - loss: 0.6892 - acc: 0.9970 - val_loss: 0.6746 - val_acc: 1.0000\n",
      "Epoch 2/30\n",
      "100/100 [==============================] - 6s 63ms/step - loss: 0.6758 - acc: 1.0000 - val_loss: 0.6639 - val_acc: 1.0000\n",
      "Epoch 3/30\n",
      "100/100 [==============================] - 6s 62ms/step - loss: 0.6662 - acc: 1.0000 - val_loss: 0.6548 - val_acc: 1.0000\n",
      "Epoch 4/30\n",
      "100/100 [==============================] - 6s 62ms/step - loss: 0.6567 - acc: 1.0000 - val_loss: 0.6454 - val_acc: 1.0000\n",
      "Epoch 5/30\n",
      "100/100 [==============================] - 6s 65ms/step - loss: 0.6470 - acc: 1.0000 - val_loss: 0.6356 - val_acc: 1.0000\n",
      "Epoch 6/30\n",
      "100/100 [==============================] - 7s 67ms/step - loss: 0.6370 - acc: 1.0000 - val_loss: 0.6256 - val_acc: 1.0000\n",
      "Epoch 7/30\n",
      "100/100 [==============================] - 6s 64ms/step - loss: 0.6269 - acc: 1.0000 - val_loss: 0.6153 - val_acc: 1.0000\n",
      "Epoch 8/30\n",
      "100/100 [==============================] - 6s 65ms/step - loss: 0.6164 - acc: 1.0000 - val_loss: 0.6047 - val_acc: 1.0000\n",
      "Epoch 9/30\n",
      "100/100 [==============================] - 7s 66ms/step - loss: 0.6056 - acc: 1.0000 - val_loss: 0.5939 - val_acc: 1.0000\n",
      "Epoch 10/30\n",
      "100/100 [==============================] - 6s 65ms/step - loss: 0.5944 - acc: 1.0000 - val_loss: 0.5828 - val_acc: 1.0000\n",
      "Epoch 11/30\n",
      "100/100 [==============================] - 7s 66ms/step - loss: 0.5833 - acc: 1.0000 - val_loss: 0.5715 - val_acc: 1.0000\n",
      "Epoch 12/30\n",
      "100/100 [==============================] - 7s 66ms/step - loss: 0.5720 - acc: 1.0000 - val_loss: 0.5600 - val_acc: 1.0000\n",
      "Epoch 13/30\n",
      "100/100 [==============================] - 6s 62ms/step - loss: 0.5597 - acc: 1.0000 - val_loss: 0.5483 - val_acc: 1.0000\n",
      "Epoch 14/30\n",
      "100/100 [==============================] - 6s 64ms/step - loss: 0.5476 - acc: 1.0000 - val_loss: 0.5365 - val_acc: 1.0000\n",
      "Epoch 15/30\n",
      "100/100 [==============================] - 6s 65ms/step - loss: 0.5366 - acc: 1.0000 - val_loss: 0.5244 - val_acc: 1.0000\n",
      "Epoch 16/30\n",
      "100/100 [==============================] - 7s 70ms/step - loss: 0.5240 - acc: 1.0000 - val_loss: 0.5123 - val_acc: 1.0000\n",
      "Epoch 17/30\n",
      "100/100 [==============================] - 7s 66ms/step - loss: 0.5122 - acc: 1.0000 - val_loss: 0.5000 - val_acc: 1.0000\n",
      "Epoch 18/30\n",
      "100/100 [==============================] - 7s 67ms/step - loss: 0.4985 - acc: 1.0000 - val_loss: 0.4876 - val_acc: 1.0000\n",
      "Epoch 19/30\n",
      "100/100 [==============================] - 6s 62ms/step - loss: 0.4863 - acc: 1.0000 - val_loss: 0.4751 - val_acc: 1.0000\n",
      "Epoch 20/30\n",
      "100/100 [==============================] - 7s 68ms/step - loss: 0.4736 - acc: 1.0000 - val_loss: 0.4625 - val_acc: 1.0000\n",
      "Epoch 21/30\n",
      "100/100 [==============================] - 8s 77ms/step - loss: 0.4615 - acc: 1.0000 - val_loss: 0.4500 - val_acc: 1.0000\n",
      "Epoch 22/30\n",
      "100/100 [==============================] - 6s 63ms/step - loss: 0.4482 - acc: 1.0000 - val_loss: 0.4373 - val_acc: 1.0000\n",
      "Epoch 23/30\n",
      "100/100 [==============================] - 6s 63ms/step - loss: 0.4360 - acc: 1.0000 - val_loss: 0.4247 - val_acc: 1.0000\n",
      "Epoch 24/30\n",
      "100/100 [==============================] - 6s 62ms/step - loss: 0.4226 - acc: 1.0000 - val_loss: 0.4120 - val_acc: 1.0000\n",
      "Epoch 25/30\n",
      "100/100 [==============================] - 6s 63ms/step - loss: 0.4107 - acc: 1.0000 - val_loss: 0.3994 - val_acc: 1.0000\n",
      "Epoch 26/30\n",
      "100/100 [==============================] - 6s 63ms/step - loss: 0.3979 - acc: 1.0000 - val_loss: 0.3868 - val_acc: 1.0000\n",
      "Epoch 27/30\n",
      "100/100 [==============================] - 6s 63ms/step - loss: 0.3852 - acc: 1.0000 - val_loss: 0.3743 - val_acc: 1.0000\n",
      "Epoch 28/30\n",
      "100/100 [==============================] - 6s 63ms/step - loss: 0.3724 - acc: 1.0000 - val_loss: 0.3619 - val_acc: 1.0000\n",
      "Epoch 29/30\n",
      "100/100 [==============================] - 6s 64ms/step - loss: 0.3599 - acc: 1.0000 - val_loss: 0.3495 - val_acc: 1.0000\n",
      "Epoch 30/30\n",
      "100/100 [==============================] - 7s 69ms/step - loss: 0.3470 - acc: 1.0000 - val_loss: 0.3373 - val_acc: 1.0000\n"
     ]
    }
   ],
   "source": [
    "from keras import models\n",
    "from keras import layers\n",
    "from tensorflow.keras import optimizers\n",
    "\n",
    "model= models.Sequential()\n",
    "model.add(layers.Dense(256, activation='relu', input_dim=4*4*512))\n",
    "model.add(layers.Dropout(0.5))\n",
    "model.add(layers.Dense(1,activation='sigmoid'))\n",
    "\n",
    "\n",
    "model.compile(optimizer=optimizers.RMSprop(learning_rate=2e-5),\n",
    "             loss='binary_crossentropy',\n",
    "             metrics=['acc'])\n",
    "\n",
    "model_history= model.fit(train_features, train_labels,\n",
    "                        epochs=30,\n",
    "                        batch_size=20,\n",
    "                        validation_data=(validation_features, validation_labels))"
   ]
  },
  {
   "cell_type": "code",
   "execution_count": 22,
   "id": "cbfb6aaf",
   "metadata": {},
   "outputs": [
    {
     "data": {
      "image/png": "[encoded data removed]",
      "text/plain": [
       "<Figure size 432x288 with 1 Axes>"
      ]
     },
     "metadata": {
      "needs_background": "light"
     },
     "output_type": "display_data"
    },
    {
     "data": {
      "image/png": "[encoded data removed]",
      "text/plain": [
       "<Figure size 432x288 with 1 Axes>"
      ]
     },
     "metadata": {
      "needs_background": "light"
     },
     "output_type": "display_data"
    }
   ],
   "source": [
    "#overfit checking\n",
    "\n",
    "history_dict=model_history.history\n",
    "\n",
    "import matplotlib.pyplot as plt\n",
    "loss_values_train=history_dict['loss'] #  train loss \n",
    "loss_values_val=history_dict['val_loss'] #  validation loss \n",
    "\n",
    "acc_train=history_dict['acc'] \n",
    "acc_val=history_dict['val_acc'] \n",
    "\n",
    "epoches=range(1, len(loss_values_train)+1)\n",
    "\n",
    "plt.figure()\n",
    "plt.plot(epoches,loss_values_train, 'bo',label='loss_training')\n",
    "plt.plot(epoches,loss_values_val,'r', label='loss_validation')\n",
    "plt.legend()\n",
    "plt.show()\n",
    "\n",
    "\n",
    "plt.figure()\n",
    "plt.plot(epoches,acc_train, 'bo',label='acc_training')\n",
    "plt.plot(epoches,acc_val,'r', label='acc_validation')\n",
    "plt.legend()\n",
    "plt.show()"
   ]
  },
  {
   "cell_type": "markdown",
   "id": "60eb1258",
   "metadata": {},
   "source": [
    "# method 2: add dense layers at the end of pretrained model"
   ]
  },
  {
   "cell_type": "code",
   "execution_count": 26,
   "id": "70b6eee7",
   "metadata": {},
   "outputs": [
    {
     "data": {
      "text/plain": [
       "4"
      ]
     },
     "execution_count": 26,
     "metadata": {},
     "output_type": "execute_result"
    }
   ],
   "source": [
    "\n",
    "model=models.Sequential()\n",
    "model.add(conv_base)\n",
    "conv_base.trainable=False \n",
    "model.add(layers.Flatten())\n",
    "model.add(layers.Dense(256, activation='relu'))\n",
    "model.add(layers.Dense(1,activation='sigmoid'))\n",
    "\n",
    "len(model.trainable_weights)"
   ]
  },
  {
   "cell_type": "code",
   "execution_count": null,
   "id": "89e86b0a",
   "metadata": {},
   "outputs": [],
   "source": [
    "# data augmantation:\n",
    "train_datagen=ImageDataGenerator(rescale=1./255,\n",
    "                          rotation_range=40, # [-40 40] \n",
    "                          width_shift_range=0.2, # [-0.2 0.2] \n",
    "                          height_shift_range=0.2,\n",
    "                          shear_range=0.2, \n",
    "                          zoom_range=0.2, # [1-0.2  1+0.2] \n",
    "                          horizontal_flip=True, # flip \n",
    "                          fill_mode='nearest')\n",
    "\n",
    "\n",
    "train_generator= train_datagen.flow_from_directory(train_dir, \n",
    "                                                   target_size=(150,150), # resize all image to 150*150\n",
    "                                                  batch_size=20, \n",
    "                                                  class_mode='binary')\n",
    "\n",
    "validation_datagen=ImageDataGenerator(rescale=1./255)\n",
    "\n",
    "validation_generator= validation_datagen.flow_from_directory(validation_dir, \n",
    "                                                   target_size=(150,150),\n",
    "                                                  batch_size=20,\n",
    "                                                  class_mode='binary') #shuffel=True (defult)"
   ]
  },
  {
   "cell_type": "code",
   "execution_count": null,
   "id": "e81f296b",
   "metadata": {},
   "outputs": [],
   "source": [
    "# training\n",
    "model.compile(optimizer=optimizers.RMSprop(learning_rate=1e-4), \n",
    "                 loss='binary_crossentropy', \n",
    "                 metrics=['acc'])  # accuracy\n",
    "\n",
    "model_history=model.fit(train_generator,\n",
    "                        steps_per_epoch=100, #how many batches in each epoch\n",
    "                        epochs=30,\n",
    "                        validation_data=validation_generator, \n",
    "                        validation_steps=50) #how many batches for validation "
   ]
  },
  {
   "cell_type": "markdown",
   "id": "c9c0565d",
   "metadata": {},
   "source": [
    "# method 3: fine tuning"
   ]
  },
  {
   "cell_type": "code",
   "execution_count": null,
   "id": "35eade06",
   "metadata": {},
   "outputs": [],
   "source": [
    "# this is the continuation of method 2"
   ]
  },
  {
   "cell_type": "code",
   "execution_count": 27,
   "id": "2e5522a6",
   "metadata": {},
   "outputs": [
    {
     "name": "stdout",
     "output_type": "stream",
     "text": [
      "Model: \"vgg16\"\n",
      "_________________________________________________________________\n",
      " Layer (type)                Output Shape              Param #   \n",
      "=================================================================\n",
      " input_1 (InputLayer)        [(None, 150, 150, 3)]     0         \n",
      "                                                                 \n",
      " block1_conv1 (Conv2D)       (None, 150, 150, 64)      1792      \n",
      "                                                                 \n",
      " block1_conv2 (Conv2D)       (None, 150, 150, 64)      36928     \n",
      "                                                                 \n",
      " block1_pool (MaxPooling2D)  (None, 75, 75, 64)        0         \n",
      "                                                                 \n",
      " block2_conv1 (Conv2D)       (None, 75, 75, 128)       73856     \n",
      "                                                                 \n",
      " block2_conv2 (Conv2D)       (None, 75, 75, 128)       147584    \n",
      "                                                                 \n",
      " block2_pool (MaxPooling2D)  (None, 37, 37, 128)       0         \n",
      "                                                                 \n",
      " block3_conv1 (Conv2D)       (None, 37, 37, 256)       295168    \n",
      "                                                                 \n",
      " block3_conv2 (Conv2D)       (None, 37, 37, 256)       590080    \n",
      "                                                                 \n",
      " block3_conv3 (Conv2D)       (None, 37, 37, 256)       590080    \n",
      "                                                                 \n",
      " block3_pool (MaxPooling2D)  (None, 18, 18, 256)       0         \n",
      "                                                                 \n",
      " block4_conv1 (Conv2D)       (None, 18, 18, 512)       1180160   \n",
      "                                                                 \n",
      " block4_conv2 (Conv2D)       (None, 18, 18, 512)       2359808   \n",
      "                                                                 \n",
      " block4_conv3 (Conv2D)       (None, 18, 18, 512)       2359808   \n",
      "                                                                 \n",
      " block4_pool (MaxPooling2D)  (None, 9, 9, 512)         0         \n",
      "                                                                 \n",
      " block5_conv1 (Conv2D)       (None, 9, 9, 512)         2359808   \n",
      "                                                                 \n",
      " block5_conv2 (Conv2D)       (None, 9, 9, 512)         2359808   \n",
      "                                                                 \n",
      " block5_conv3 (Conv2D)       (None, 9, 9, 512)         2359808   \n",
      "                                                                 \n",
      " block5_pool (MaxPooling2D)  (None, 4, 4, 512)         0         \n",
      "                                                                 \n",
      "=================================================================\n",
      "Total params: 14,714,688\n",
      "Trainable params: 0\n",
      "Non-trainable params: 14,714,688\n",
      "_________________________________________________________________\n"
     ]
    }
   ],
   "source": [
    "conv_base.summary()"
   ]
  },
  {
   "cell_type": "code",
   "execution_count": null,
   "id": "bdf5fc57",
   "metadata": {},
   "outputs": [],
   "source": [
    "# unfreeze last layer, block5_conv1\n",
    "set_trainable= False\n",
    "for layer in conv_base.layers:\n",
    "    if layer.name=='block5_conv1':\n",
    "        set_trainable=True\n",
    "    if set_trainable:\n",
    "        layer.trainable=True\n",
    "    else:\n",
    "        layer.tranable=False"
   ]
  },
  {
   "cell_type": "code",
   "execution_count": null,
   "id": "5bf500ae",
   "metadata": {},
   "outputs": [],
   "source": [
    "# training\n",
    "\n",
    "model.compile(optimizer=optimizers.RMSprop(learning_rate=1e-5), # learning_rate\n",
    "                 loss='binary_crossentropy', # binary clasification \n",
    "                 metrics=['acc'])  # accuracy\n",
    "\n",
    "model_history=model.fit(train_generator,\n",
    "                        steps_per_epoch=100, #how many batches in each epoch, \n",
    "                        epochs=100,\n",
    "                        validation_data=validation_generator, \n",
    "                        validation_steps=50) #how many batches for validation, "
   ]
  },
  {
   "cell_type": "code",
   "execution_count": null,
   "id": "e7a37e00",
   "metadata": {},
   "outputs": [],
   "source": [
    "# test\n",
    "test_datagen=ImageDataGenerator(rescale=1./255)\n",
    "\n",
    "test_generator= test_datagen.flow_from_directory(test_dir, \n",
    "                                                 target_size=(150,150),\n",
    "                                                 batch_size=20,\n",
    "                                                 class_mode='binary') #shuffel=True (defult)\n",
    "\n",
    "test_loss, test_acc=model.evaluate(test_generator, step=50) \n",
    "print(test_loss, test_acc)"
   ]
  }
 ],
 "metadata": {
  "kernelspec": {
   "display_name": "Python 3 (ipykernel)",
   "language": "python",
   "name": "python3"
  },
  "language_info": {
   "codemirror_mode": {
    "name": "ipython",
    "version": 3
   },
   "file_extension": ".py",
   "mimetype": "text/x-python",
   "name": "python",
   "nbconvert_exporter": "python",
   "pygments_lexer": "ipython3",
   "version": "3.8.13"
  }
 },
 "nbformat": 4,
 "nbformat_minor": 5
}
